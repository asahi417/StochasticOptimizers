{
 "cells": [
  {
   "cell_type": "markdown",
   "metadata": {
    "collapsed": true
   },
   "source": [
    "\n",
    "# Regression"
   ]
  },
  {
   "cell_type": "code",
   "execution_count": 1,
   "metadata": {
    "collapsed": true
   },
   "outputs": [],
   "source": [
    "# append path to the library\n",
    "import sys, os\n",
    "from os.path import dirname\n",
    "p = dirname(os.getcwd())\n",
    "sys.path.append(p)"
   ]
  },
  {
   "cell_type": "code",
   "execution_count": 38,
   "metadata": {
    "collapsed": true
   },
   "outputs": [],
   "source": [
    "%matplotlib inline\n",
    "import matplotlib.pyplot as plt\n",
    "import numpy as np\n",
    "import glob, json\n",
    "from sklearn.externals import joblib\n",
    "from stochastic_optimizer.estimator import SGDRegressor, AdamRegressor, AdaGradRegressor\n",
    "from stochastic_optimizer.estimator import RMSpropRegressor, AdaDeltaRegressor, VSGDRegressor\n",
    "from stochastic_optimizer.framework import LearningCurveRegressor, GridSearch\n",
    "from stochastic_optimizer.other import PlotCurves\n",
    "from data import RegressionData"
   ]
  },
  {
   "cell_type": "code",
   "execution_count": 3,
   "metadata": {},
   "outputs": [
    {
     "name": "stdout",
     "output_type": "stream",
     "text": [
      "(30000, 1000) (1000,) (30000,)\n"
     ]
    }
   ],
   "source": [
    "rd = RegressionData(\n",
    "    var=10, mean=0, rate=0.1, prob=0.1, dist='normal', shape=(30000, 1000),\n",
    "    c_var=10, c_mean=0.1, c_rate=0, c_dist=None, noise_var=1)\n",
    "print(rd.X.shape, rd.coef_.shape, rd.y.shape)"
   ]
  },
  {
   "cell_type": "markdown",
   "metadata": {},
   "source": [
    "# Grid Search\n",
    "- check the progress at \"path/logger.log\"\n",
    "- \"path\" is the parameter of \"GridSearch\""
   ]
  },
  {
   "cell_type": "code",
   "execution_count": 39,
   "metadata": {},
   "outputs": [
    {
     "name": "stdout",
     "output_type": "stream",
     "text": [
      "result was saved: examples_result/grid_search/regression_gridsearching\n"
     ]
    }
   ],
   "source": [
    "p = {'eta0': np.linspace(0.0001, 0.001, 20), 'power_t': [0.5, 1]}\n",
    "p_0 = {'eta0': np.linspace(0.01, 0.8, 20)}\n",
    "p_1 = {'eta0': np.linspace(0.01, 0.8, 20), 'var_w': np.linspace(0.01, 1, 20)}\n",
    "p_2 = {'eps_': [10**i for i in np.linspace(-10, -1, 20)], 'rms':[True, False], 'var_w': np.linspace(0.01, 1, 20)}\n",
    "\n",
    "setting = {'warm_start': True}\n",
    "\n",
    "regressor = [\n",
    "    (\"SGD\", SGDRegressor(**setting), p),\n",
    "    (\"AdaGrad\", AdaGradRegressor(**setting), p_0),\n",
    "    (\"RMSprop\", RMSpropRegressor(**setting), p_1),\n",
    "    (\"Adam\", AdamRegressor(**setting), p_1),\n",
    "    (\"AdaDelta\", AdaDeltaRegressor(**setting), p_2),\n",
    "]\n",
    "\n",
    "X_s, y_s = rd.X[0:10000], rd.y[0:10000]\n",
    "path_gs = GridSearch(X_s, y_s, regressor, path='examples_result/grid_search/',\n",
    "                     key=\"regression_gridsearching\", scoring=\"r2\")\n",
    "print(\"result was saved: %s\" % path_gs)"
   ]
  },
  {
   "cell_type": "code",
   "execution_count": 40,
   "metadata": {
    "scrolled": true
   },
   "outputs": [
    {
     "data": {
      "text/plain": [
       "{'AdaDelta': {'alpha': 0.0001,\n",
       "  'eps_': 0.011288378916846883,\n",
       "  'fit_intercept': True,\n",
       "  'loss': 'square',\n",
       "  'momentum': 1,\n",
       "  'n_jobs': 1,\n",
       "  'penalty': 'l1',\n",
       "  'rms': False,\n",
       "  'var_w': 0.01,\n",
       "  'warm_start': True},\n",
       " 'AdaGrad': {'alpha': 0.0001,\n",
       "  'eps_': 1e-08,\n",
       "  'eta0': 0.80000000000000004,\n",
       "  'fit_intercept': True,\n",
       "  'loss': 'square',\n",
       "  'momentum': 1,\n",
       "  'n_jobs': 1,\n",
       "  'penalty': 'l1',\n",
       "  'warm_start': True},\n",
       " 'Adam': {'alpha': 0.0001,\n",
       "  'eps_': 1e-08,\n",
       "  'eta0': 0.051578947368421058,\n",
       "  'fit_intercept': True,\n",
       "  'loss': 'square',\n",
       "  'momentum': 1,\n",
       "  'n_jobs': 1,\n",
       "  'penalty': 'l1',\n",
       "  'rms': True,\n",
       "  'var_w': 0.06210526315789474,\n",
       "  'warm_start': True},\n",
       " 'RMSprop': {'alpha': 0.0001,\n",
       "  'eps_': 1e-08,\n",
       "  'eta0': 0.051578947368421058,\n",
       "  'fit_intercept': True,\n",
       "  'loss': 'square',\n",
       "  'momentum': 1,\n",
       "  'n_jobs': 1,\n",
       "  'penalty': 'l1',\n",
       "  'rms': True,\n",
       "  'var_w': 0.06210526315789474,\n",
       "  'warm_start': True},\n",
       " 'SGD': {'alpha': 0.0001,\n",
       "  'eta0': 0.001,\n",
       "  'fit_intercept': False,\n",
       "  'loss': 'square',\n",
       "  'n_jobs': 1,\n",
       "  'penalty': None,\n",
       "  'power_t': 0.5,\n",
       "  'warm_start': True},\n",
       " 'VSGD': {'alpha': 0.0001,\n",
       "  'decay': False,\n",
       "  'fit_intercept': True,\n",
       "  'loss': 'square',\n",
       "  'momentum': 1,\n",
       "  'n_jobs': 1,\n",
       "  'penalty': 'l1',\n",
       "  'rms': True,\n",
       "  'var_w': 1,\n",
       "  'warm_start': True}}"
      ]
     },
     "execution_count": 40,
     "metadata": {},
     "output_type": "execute_result"
    }
   ],
   "source": [
    "file = glob.glob(\"%s/*.pkl\" % path_gs)\n",
    "best_parameter = {}\n",
    "for f in file:\n",
    "    clf = joblib.load(f)    \n",
    "    name = f.split(\"/\")[-1].replace(\".pkl\", \"\")\n",
    "    best_parameter[name] = clf.best_estimator_.get_params()\n",
    "best_parameter"
   ]
  },
  {
   "cell_type": "markdown",
   "metadata": {},
   "source": [
    "## Learning Models\n",
    "- check the progress at \"path/logger.log\"\n",
    "- \"path\" is the parameter of \"LearningCurveClassifier\""
   ]
  },
  {
   "cell_type": "code",
   "execution_count": 41,
   "metadata": {
    "collapsed": true
   },
   "outputs": [],
   "source": [
    "setting = {\"fit_intercept\":False, \"warm_start\":True}\n",
    "regressors = [\n",
    "    (\"SGD\", SGDRegressor(**best_parameter[\"SGD\"])),\n",
    "    (\"AdaGrad\", AdaGradRegressor(**best_parameter[\"AdaGrad\"])),\n",
    "    (\"RMSprop\", RMSpropRegressor(**best_parameter[\"RMSprop\"])),\n",
    "    (\"Adam\", AdamRegressor(**best_parameter[\"Adam\"])),\n",
    "    (\"AdaDelta\", AdaDeltaRegressor(**best_parameter[\"AdaDelta\"])),\n",
    "    (\"VSGD\", VSGDRegressor(**setting)),\n",
    "]\n",
    "\n",
    "path_lc = LearningCurveRegressor(rd.X, rd.y_noise, regressors, path='examples_result/compare/', key=\"regression_simulation\",\n",
    "                                 rounds=2, split=50)"
   ]
  },
  {
   "cell_type": "code",
   "execution_count": 47,
   "metadata": {
    "collapsed": true
   },
   "outputs": [
    {
     "name": "stdout",
     "output_type": "stream",
     "text": [
      "Help on class PlotCurves in module stochastic_optimizer.other.plot_curves:\n",
      "\n",
      "class PlotCurves(builtins.object)\n",
      " |  Plot learning curve\n",
      " |  \n",
      " |   Parameters\n",
      " |  ----------\n",
      " |  yy: dict of error {algorithm_name:[error]}\n",
      " |  data_size: full datasize used in learning\n",
      " |  split: splitting number\n",
      " |  rounds: independent trial number\n",
      " |  data_path: where to save the figure\n",
      " |  \n",
      " |  Methods defined here:\n",
      " |  \n",
      " |  __init__(self, split, data_order, data_size, rounds, data_classes=1, remove=[])\n",
      " |      Initialize self.  See help(type(self)) for accurate signature.\n",
      " |  \n",
      " |  error(self, yy, fill_ci=True)\n",
      " |  \n",
      " |  sparsity(self, yy, fill_ci=True)\n",
      " |  \n",
      " |  ----------------------------------------------------------------------\n",
      " |  Data descriptors defined here:\n",
      " |  \n",
      " |  __dict__\n",
      " |      dictionary for instance variables (if defined)\n",
      " |  \n",
      " |  __weakref__\n",
      " |      list of weak references to the object (if defined)\n",
      "\n"
     ]
    }
   ],
   "source": [
    "help(PlotCurves)"
   ]
  },
  {
   "cell_type": "code",
   "execution_count": 49,
   "metadata": {},
   "outputs": [
    {
     "data": {
      "image/png": "[encoded data removed]",
      "text/plain": [
       "<matplotlib.figure.Figure at 0x7fe540282c50>"
      ]
     },
     "metadata": {},
     "output_type": "display_data"
    },
    {
     "data": {
      "image/png": "[encoded data removed]",
      "text/plain": [
       "<matplotlib.figure.Figure at 0x7fe54053c518>"
      ]
     },
     "metadata": {},
     "output_type": "display_data"
    }
   ],
   "source": [
    "with open(\"%s/simulation_setting.json\" % path_lc) as f:\n",
    "    params = json.load(f)\n",
    "with open(\"%s/error.json\" % path_lc) as f:\n",
    "    error = json.load(f)\n",
    "with open(\"%s/nonzero.json\" % path_lc) as f:\n",
    "    nonzero = json.load(f)\n",
    "\n",
    "pc = PlotCurves(**params)\n",
    "fig = pc.error(error, fill_ci=False)\n",
    "plt.rcParams['font.size'] = 14\n",
    "plt.legend(loc=\"best\", fontsize=10)\n",
    "plt.savefig(\"%s/error.eps\" % path_lc, bbox_inches=\"tight\")\n",
    "plt.savefig(\"%s/error.pdf\" % path_lc, bbox_inches=\"tight\", transparent=True)\n",
    "plt.show()\n",
    "\n",
    "fig = pc.sparsity(nonzero, fill_ci=False)\n",
    "plt.rcParams['font.size'] = 14\n",
    "plt.legend(loc=\"best\", fontsize=10)\n",
    "plt.savefig(\"%s/sparsity.eps\" % path_lc, bbox_inches=\"tight\")\n",
    "plt.savefig(\"%s/sparsity.pdf\" % path_lc, bbox_inches=\"tight\", transparent=True)\n",
    "plt.show()"
   ]
  },
  {
   "cell_type": "markdown",
   "metadata": {},
   "source": [
    "# The way to see the learned model"
   ]
  },
  {
   "cell_type": "code",
   "execution_count": 44,
   "metadata": {
    "scrolled": true
   },
   "outputs": [
    {
     "name": "stdout",
     "output_type": "stream",
     "text": [
      "VSGD\n",
      "VSGDRegressor(alpha=0.0001, decay=False, fit_intercept=False, loss='square',\n",
      "       momentum=1, n_jobs=1, penalty='l1', rms=True, var_w=1,\n",
      "       warm_start=True)\n",
      "Adam\n",
      "AdamRegressor(alpha=0.0001, eps_=1e-08, eta0=0.051578947368421058,\n",
      "       fit_intercept=True, loss='square', momentum=1, n_jobs=1,\n",
      "       penalty='l1', rms=True, var_w=0.06210526315789474, warm_start=True)\n",
      "AdaGrad\n",
      "AdaGradRegressor(alpha=0.0001, eps_=1e-08, eta0=0.80000000000000004,\n",
      "         fit_intercept=True, loss='square', momentum=1, n_jobs=1,\n",
      "         penalty='l1', warm_start=True)\n",
      "SGD\n",
      "SGDRegressor(alpha=0.0001, eta0=0.001, fit_intercept=False, loss='square',\n",
      "       n_jobs=1, penalty=None, power_t=0.5, warm_start=True)\n",
      "AdaDelta2\n",
      "AdaDeltaRegressor(alpha=0.0001, eps_=0.001, fit_intercept=False,\n",
      "         loss='square', momentum=1, n_jobs=1, penalty='l1', rms=False,\n",
      "         var_w=0.1, warm_start=True)\n",
      "AdaDelta\n",
      "AdaDeltaRegressor(alpha=0.0001, eps_=0.011288378916846883, fit_intercept=True,\n",
      "         loss='square', momentum=1, n_jobs=1, penalty='l1', rms=False,\n",
      "         var_w=0.01, warm_start=True)\n",
      "RMSprop\n",
      "RMSpropRegressor(alpha=0.0001, eps_=1e-08, eta0=0.051578947368421058,\n",
      "         fit_intercept=True, loss='square', momentum=1, n_jobs=1,\n",
      "         penalty='l1', rms=True, var_w=0.06210526315789474,\n",
      "         warm_start=True)\n"
     ]
    }
   ],
   "source": [
    "file = glob.glob(\"%s/*.pkl\" % path_lc)\n",
    "for f in file:\n",
    "    clf = joblib.load(f)\n",
    "    name = f.split(\"/\")[-1].replace(\".pkl\", \"\")\n",
    "    print(name)\n",
    "    print(clf)"
   ]
  }
 ],
 "metadata": {
  "kernelspec": {
   "display_name": "Python 3",
   "language": "python",
   "name": "python3"
  },
  "language_info": {
   "codemirror_mode": {
    "name": "ipython",
    "version": 3
   },
   "file_extension": ".py",
   "mimetype": "text/x-python",
   "name": "python",
   "nbconvert_exporter": "python",
   "pygments_lexer": "ipython3",
   "version": "3.6.0"
  }
 },
 "nbformat": 4,
 "nbformat_minor": 2
}
