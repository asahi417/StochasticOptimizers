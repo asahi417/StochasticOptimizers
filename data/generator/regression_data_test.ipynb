{
 "cells": [
  {
   "cell_type": "code",
   "execution_count": null,
   "metadata": {
    "collapsed": true
   },
   "outputs": [],
   "source": []
  },
  {
   "cell_type": "code",
   "execution_count": 2,
   "metadata": {},
   "outputs": [],
   "source": [
    "%matplotlib inline\n",
    "from matplotlib import pyplot as plt\n",
    "\n",
    "from regression_data import RegressionData"
   ]
  },
  {
   "cell_type": "code",
   "execution_count": 7,
   "metadata": {
    "scrolled": true
   },
   "outputs": [
    {
     "name": "stdout",
     "output_type": "stream",
     "text": [
      "Help on RegressionData in module regression_data object:\n",
      "\n",
      "class RegressionData(builtins.object)\n",
      " |  Generate data for regression.\n",
      " |  \n",
      " |   Parameter\n",
      " |  ----------------\n",
      " |  shape: (size, order)\n",
      " |  data heterogeneity parameters:\n",
      " |      rate: ratio of the data which are not frequently 0\n",
      " |            稀にしか現れない要素の割合\n",
      " |      prob: probability of the 0 data\n",
      " |            稀にしか現れない要素の0である確率\n",
      " |      dist: distribution of input data\n",
      " |            None (uniform), Normal\n",
      " |  \n",
      " |  coef scale parameters:\n",
      " |      c_var: variance of distribution\n",
      " |      c_mean: mean of distribution\n",
      " |      c_rate: ratio of zero elements\n",
      " |      c_dist: distribution of input data\n",
      " |              None (uniform), Normal\n",
      " |  \n",
      " |   Attribution\n",
      " |  ---------------\n",
      " |  X: input\n",
      " |  X_var: variance\n",
      " |  X_mean: mean\n",
      " |  X_sparsity: ratio of 0 elements\n",
      " |  X_density: ratio of nonzero elements\n",
      " |             size 方向に見た時に一度も0にならない成分の割合\n",
      " |  X_densevar: size 方向に見た時に一度も0にならない成分の variance\n",
      " |  \n",
      " |  coef_: coefficient\n",
      " |  \n",
      " |  y: output\n",
      " |  \n",
      " |  Methods defined here:\n",
      " |  \n",
      " |  __init__(self, var=1, mean=4, rate=0.7, prob=0.5, dist='normal', shape=(100, 10), c_var=1, c_mean=0.1, c_rate=0.2, c_dist=None)\n",
      " |  \n",
      " |  generator_X(self, var, mean, rate, prob, dist, size, order)\n",
      " |  \n",
      " |  generator_coef(self, c_var, c_mean, c_rate, c_dist, order)\n",
      " |  \n",
      " |  ----------------------------------------------------------------------\n",
      " |  Data descriptors defined here:\n",
      " |  \n",
      " |  __dict__\n",
      " |      dictionary for instance variables (if defined)\n",
      " |  \n",
      " |  __weakref__\n",
      " |      list of weak references to the object (if defined)\n",
      "\n"
     ]
    }
   ],
   "source": [
    "help(RD)"
   ]
  },
  {
   "cell_type": "code",
   "execution_count": 3,
   "metadata": {},
   "outputs": [
    {
     "name": "stdout",
     "output_type": "stream",
     "text": [
      "1.06854860376\n",
      "4.60064990035\n",
      "0.0902221131581\n",
      "0.07506516709\n"
     ]
    }
   ],
   "source": [
    "RD = RegressionData()\n",
    "print(RD.X_densevar)\n",
    "print(RD.X_var)\n",
    "print(RD.coef_densevar)\n",
    "print(RD.coef_var)"
   ]
  },
  {
   "cell_type": "code",
   "execution_count": 10,
   "metadata": {},
   "outputs": [
    {
     "data": {
      "image/png": "[encoded data removed]",
      "text/plain": [
       "<matplotlib.figure.Figure at 0x10b342780>"
      ]
     },
     "metadata": {},
     "output_type": "display_data"
    }
   ],
   "source": [
    "plt.plot(RD.coef_)\n",
    "plt.show()"
   ]
  }
 ],
 "metadata": {
  "kernelspec": {
   "display_name": "Python 3",
   "language": "python",
   "name": "python3"
  },
  "language_info": {
   "codemirror_mode": {
    "name": "ipython",
    "version": 3
   },
   "file_extension": ".py",
   "mimetype": "text/x-python",
   "name": "python",
   "nbconvert_exporter": "python",
   "pygments_lexer": "ipython3",
   "version": "3.4.0"
  }
 },
 "nbformat": 4,
 "nbformat_minor": 2
}
